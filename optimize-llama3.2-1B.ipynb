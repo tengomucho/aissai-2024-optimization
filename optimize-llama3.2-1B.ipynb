{
 "cells": [
  {
   "cell_type": "markdown",
   "id": "821ba64d",
   "metadata": {},
   "source": [
    "# Optimize Inference on a Llama 3.2 1B on Pytorch\n",
    "\n",
    "To start with, some imports will be made."
   ]
  },
  {
   "cell_type": "code",
   "execution_count": 1,
   "id": "6a5dcaa3-5e10-4e58-b7ad-696584fc37ab",
   "metadata": {},
   "outputs": [],
   "source": [
    "import time\n",
    "import torch\n",
    "from transformers import AutoTokenizer, AutoModelForCausalLM"
   ]
  },
  {
   "cell_type": "markdown",
   "id": "2744d030",
   "metadata": {},
   "source": [
    "Define the model ID and use the transformers utilities to load model and tokenizer from the Hugging Face hub."
   ]
  },
  {
   "cell_type": "code",
   "execution_count": 2,
   "id": "7e7a522b",
   "metadata": {},
   "outputs": [],
   "source": [
    "model_id = \"meta-llama/Llama-3.2-1B\"\n",
    "model = AutoModelForCausalLM.from_pretrained(model_id)\n",
    "tokenizer = AutoTokenizer.from_pretrained(model_id)\n",
    "# Setting `pad_token_id` to `eos_token_id` for open-end generation.\n",
    "model.generation_config.pad_token_id = tokenizer.eos_token_id"
   ]
  },
  {
   "cell_type": "markdown",
   "id": "eb11a408",
   "metadata": {},
   "source": [
    "Note no particular parameters have been used, meaning this will be loaded on CPU with FP32 precision."
   ]
  },
  {
   "cell_type": "code",
   "execution_count": 3,
   "id": "6f0249b8",
   "metadata": {},
   "outputs": [
    {
     "name": "stdout",
     "output_type": "stream",
     "text": [
      "Model dtype: torch.float32 device: cpu\n"
     ]
    }
   ],
   "source": [
    "print(f\"Model dtype: {model.dtype} device: {model.device}\")"
   ]
  },
  {
   "cell_type": "markdown",
   "id": "4184cfd3",
   "metadata": {},
   "source": [
    "Define a function to evaluate the inference time and run it once."
   ]
  },
  {
   "cell_type": "code",
   "execution_count": 4,
   "id": "d41b9c7d",
   "metadata": {},
   "outputs": [
    {
     "name": "stderr",
     "output_type": "stream",
     "text": [
      "Starting from v4.46, the `logits` model output will have the same type as the model (except at train time, where it will always be FP32)\n"
     ]
    },
    {
     "name": "stdout",
     "output_type": "stream",
     "text": [
      "Output: Once upon a time, a scientist named Charles Darwin hypothesized that the earth had once been inhabited by dinosaurs. The theory was that the dinosaurs were a type of reptile that lived on earth, and were the ancestors of all other animals. Scientists have since found evidence that supports this theory, and now we know that dinosaurs were once the dominant species on earth.\n",
      "In this article, we will explore the evidence that supports the theory that dinosaurs were once the dominant species on earth. We will also look\n",
      "Elapsed time: 7.47 seconds\n"
     ]
    }
   ],
   "source": [
    "def inference_time(model, input_text):\n",
    "    input_ids = tokenizer(input_text, return_tensors=\"pt\").to(model.device)\n",
    "    # Warm-up: first inference is slower\n",
    "    model.generate(**input_ids, max_length=100)\n",
    "    start = time.time()\n",
    "    with torch.no_grad():\n",
    "        output = model.generate(**input_ids, max_length=100)\n",
    "    end = time.time()\n",
    "    print(f\"Output: {tokenizer.decode(output[0], skip_special_tokens=True)}\")\n",
    "    return end - start\n",
    "\n",
    "input_text = \"Once upon a time, a scientist\"\n",
    "times = {}\n",
    "elapsed = inference_time(model, input_text)\n",
    "print(f\"Elapsed time: {elapsed:.2f} seconds\")\n",
    "times[\"cpu\"] = elapsed"
   ]
  },
  {
   "cell_type": "markdown",
   "id": "b5889a02",
   "metadata": {},
   "source": [
    "Now move the model to the device (in this case, on a MacBook, it will be Metal Performance Shaders, on a setup with GPU it would be CUDA) and evaluate inference changes."
   ]
  },
  {
   "cell_type": "code",
   "execution_count": 5,
   "id": "a444c8f2",
   "metadata": {},
   "outputs": [
    {
     "name": "stdout",
     "output_type": "stream",
     "text": [
      "Model dtype: torch.float32 device: mps:0\n",
      "\n",
      "Output: Once upon a time, a scientist discovered a drug that could cure the disease of the moment. The drug was effective, but it was very expensive, so no one wanted to pay for it. The drug was not effective for a second disease, so the scientist made a new drug that worked for the second disease, but it was also very expensive. The drug was not effective for a third disease, so the scientist made a new drug that worked for the third disease, but it was also very\n",
      "Elapsed time: 7.51 seconds, difference: 0.03 seconds\n"
     ]
    }
   ],
   "source": [
    "device = \"mps\"\n",
    "model.to(device)\n",
    "print(f\"Model dtype: {model.dtype} device: {model.device}\\n\")\n",
    "\n",
    "old_elapsed = elapsed\n",
    "elapsed = inference_time(model, input_text)\n",
    "print(f\"Elapsed time: {elapsed:.2f} seconds, difference: {elapsed - old_elapsed:.2f} seconds\")\n",
    "times[\"mps 32b\"] = elapsed"
   ]
  },
  {
   "cell_type": "markdown",
   "id": "ef6c4caa",
   "metadata": {},
   "source": [
    "Now reduce weights precision to `float16`, bacause MPS is capable of accelerating operations with this precision."
   ]
  },
  {
   "cell_type": "code",
   "execution_count": 6,
   "id": "2628eb86",
   "metadata": {},
   "outputs": [
    {
     "name": "stdout",
     "output_type": "stream",
     "text": [
      "Model dtype: torch.float16 device: mps:0\n",
      "\n",
      "Output: Once upon a time, a scientist from the University of Washington in Seattle, Washington, was trying to find a way to increase the efficiency of solar panels. She wanted to make sure that more energy was collected from the sun, and that the solar panels were able to work for longer periods of time. To do this, she decided to make use of an old technology called “thermal mass,” which is a material that can store heat. The scientist had to find a way to use thermal mass to\n",
      "Elapsed time: 4.91 seconds, difference: -2.60 seconds\n"
     ]
    }
   ],
   "source": [
    "model.to(torch.float16)\n",
    "print(f\"Model dtype: {model.dtype} device: {model.device}\\n\")\n",
    "\n",
    "old_elapsed = elapsed\n",
    "elapsed = inference_time(model, input_text)\n",
    "print(f\"Elapsed time: {elapsed:.2f} seconds, difference: {elapsed - old_elapsed:.2f} seconds\")\n",
    "times[\"mps 16b\"] = elapsed"
   ]
  },
  {
   "cell_type": "markdown",
   "id": "7a67d910",
   "metadata": {},
   "source": [
    "## Quantization\n",
    "\n",
    "Models can be quite big, and it can be challenging to keep them into memory. E.g.:"
   ]
  },
  {
   "cell_type": "code",
   "execution_count": 7,
   "id": "c678dd5c",
   "metadata": {},
   "outputs": [
    {
     "name": "stdout",
     "output_type": "stream",
     "text": [
      "2.3G\t/Users/amoran/.cache/huggingface/hub/models--meta-llama--Llama-3.2-1B\n"
     ]
    }
   ],
   "source": [
    "\n",
    "!du -sh `huggingface-cli scan-cache|grep Llama-3.2-1B|awk '{print $NF}'`"
   ]
  },
  {
   "cell_type": "markdown",
   "id": "19784b38",
   "metadata": {},
   "source": [
    "There are tools that allow to provide a simple quantization that will reduce weights footprint. Here it is possible to see how to achieve that using `optimum-quanto`."
   ]
  },
  {
   "cell_type": "code",
   "execution_count": 8,
   "id": "e95532fb",
   "metadata": {},
   "outputs": [
    {
     "name": "stdout",
     "output_type": "stream",
     "text": [
      "997M\t./Llama-3.2-1B-quantized\n"
     ]
    }
   ],
   "source": [
    "from optimum.quanto import QuantizedModelForCausalLM, qint4\n",
    "\n",
    "qmodel = QuantizedModelForCausalLM.quantize(model, weights=qint4, exclude='lm_head')\n",
    "qmodel.save_pretrained('./Llama-3.2-1B-quantized')\n",
    "!du -sh ./Llama-3.2-1B-quantized"
   ]
  },
  {
   "cell_type": "markdown",
   "id": "7845b489",
   "metadata": {},
   "source": [
    "In this case the model size is next to 2.4 times smaller.\n",
    "Note that performance can be quite slow though, unless a dedicated hardware is available."
   ]
  },
  {
   "cell_type": "code",
   "execution_count": 9,
   "id": "49113cde",
   "metadata": {},
   "outputs": [
    {
     "name": "stdout",
     "output_type": "stream",
     "text": [
      "Output: Once upon a time, a scientist called Albert Einstein discovered a mysterious particle called the “God Particle.” This particle was so small that it could fit inside a single atom. This particle was so powerful that it could create an entire universe in just a single second. This particle was so powerful that it could create an entire universe in just a single second. It was a particle that could create an entire universe in just a single second. It was a particle that could create an entire universe in just a\n",
      "Elapsed time: 42.38 seconds, difference with MPS model: 34.87 seconds\n"
     ]
    }
   ],
   "source": [
    "qmodel.to(device)\n",
    "elapsed = inference_time(qmodel, input_text)\n",
    "print(f\"Elapsed time: {elapsed:.2f} seconds, difference with MPS model: {elapsed - times['mps 32b']:.2f} seconds\")\n",
    "times[\"4-bit mps\"] =  elapsed"
   ]
  },
  {
   "cell_type": "markdown",
   "id": "a2c59994-b121-45d6-90c8-87d33c8baec0",
   "metadata": {},
   "source": [
    "## Visualize Performance Results"
   ]
  },
  {
   "cell_type": "code",
   "execution_count": 10,
   "id": "2abdcf2d-4853-4ff4-b386-27ab5f4edfdb",
   "metadata": {},
   "outputs": [
    {
     "data": {
      "text/plain": [
       "Text(0, 0.5, 'Evaluation time (s)')"
      ]
     },
     "execution_count": 10,
     "metadata": {},
     "output_type": "execute_result"
    },
    {
     "data": {
      "image/png": "[encoded data removed]",
      "text/plain": [
       "<Figure size 800x500 with 1 Axes>"
      ]
     },
     "metadata": {},
     "output_type": "display_data"
    }
   ],
   "source": [
    "import matplotlib.pyplot as plt\n",
    "\n",
    "x = list(times.keys())   # x-axis labels\n",
    "y = list(times.values()) # y-axis values\n",
    "\n",
    "# Create a bar graph\n",
    "plt.figure(figsize=(8, 5))\n",
    "plt.bar(x, y, color='skyblue')\n",
    "\n",
    "# Add title and labels\n",
    "plt.title('Performance comparison of inference times for Llama 3.2-1B on MPS')\n",
    "plt.xlabel('Configurations')\n",
    "plt.ylabel('Evaluation time (s)')"
   ]
  },
  {
   "cell_type": "code",
   "execution_count": null,
   "id": "fb77eef3-d9f0-41ea-a2da-89a22cd740a3",
   "metadata": {},
   "outputs": [],
   "source": []
  }
 ],
 "metadata": {
  "kernelspec": {
   "display_name": "Python 3 (ipykernel)",
   "language": "python",
   "name": "python3"
  },
  "language_info": {
   "codemirror_mode": {
    "name": "ipython",
    "version": 3
   },
   "file_extension": ".py",
   "mimetype": "text/x-python",
   "name": "python",
   "nbconvert_exporter": "python",
   "pygments_lexer": "ipython3",
   "version": "3.11.9"
  }
 },
 "nbformat": 4,
 "nbformat_minor": 5
}
